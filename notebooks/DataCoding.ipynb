{
 "cells": [
  {
   "cell_type": "markdown",
   "id": "1a5b5652-a432-4cd2-9c2a-d4a6b6f342d1",
   "metadata": {},
   "source": [
    "## Data Coding\n",
    "#### Data coding is the process of converting raw data into a structured format that can be analyzed. This applies to both quantitative and qualitative research. For quantitative data, this often involves assigning numerical values to responses, like coding \"male\" as 0 and \"female\" as 1. For qualitative data, it means assigning labels or tags to text, audio, or video to identify and organize themes and patterns."
   ]
  },
  {
   "cell_type": "markdown",
   "id": "8349c0fa-0097-4a22-9638-50e050657ade",
   "metadata": {},
   "source": [
    "### Exercise 1\n",
    "\n",
    "#### WF1 Conceptual: data coding. Consider the following raw data with customer reviews about a product. Code these data as a data matrix and describe how you coded the variables in a separate document.\n",
    "#### Person 1: Larry Hagman from Pennsylvania, USA, red hair, age 76: ”This software is amazing, does exactly what I need it to [Product Quality]. However, I do wish they’d stop raising prices every year as it’s starting to get a little out of my budget.”\n",
    "#### Person 2: Melanie Firlinger, Kuchl, Austria, brown hair, age 43: “Love the product, but honestly I can’t deal with the terrible customer service anymore. I’ll be shopping around for a new solution.”\n",
    "#### Person 3: Franz Pirlinger, Hildesheim, Germany, brown hair, age 22: “Meh, this software is okay but cheaper competitors are just as good with much better customer service.”"
   ]
  },
  {
   "cell_type": "markdown",
   "id": "ce7bbe9a-1a35-4fca-81af-ef64a2f4e7ec",
   "metadata": {},
   "source": [
    "### Data matrix of the above data"
   ]
  },
  {
   "cell_type": "markdown",
   "id": "4cad7856-c5bc-475d-b55b-857fd792c868",
   "metadata": {},
   "source": [
    "| PersonID | Name              | Country | Hair Color | Age | Product Quality | Price Concern | Customer Service Concern | Overall Sentiment |\n",
    "| ------ | ----------------- | ------- | ---------- | --- | --------------- | ------------- | ------------------------ | ----------------- |\n",
    "| 1      | Larry Hagman      | USA     | Red        | 76  | Positive        | Yes           | No                       | Mixed Positive    |\n",
    "| 2      | Melanie Firlinger | Austria | Brown      | 43  | Positive        | No            | Yes                      | Negative          |\n",
    "| 3      | Franz Pirlinger   | Germany | Brown      | 22  | Neutral         | Yes           | Yes                      | Mixed Negative    |\n"
   ]
  },
  {
   "cell_type": "markdown",
   "id": "2ffee100-d602-4b59-9418-f9a4c3b276ed",
   "metadata": {},
   "source": [
    "### The Reason behind the choise of code "
   ]
  },
  {
   "cell_type": "markdown",
   "id": "2675c1e4-49f4-49d9-975c-f34172a9f48c",
   "metadata": {},
   "source": [
    "PersonID: Unique ID for each entry\n",
    "\n",
    "Name: Kept as identifier.\n",
    "\n",
    "Country: Extracted from text.\n",
    "\n",
    "Hair Color: Directly coded from text (Red / Brown).\n",
    "\n",
    "Age: Numeric, taken directly.\n",
    "\n",
    "##### Product Quality:\n",
    "\n",
    "Positive = clear satisfaction (“amazing”, “love the product”).\n",
    "\n",
    "Neutral = lukewarm (“okay”).\n",
    "\n",
    "Negative = explicit dissatisfaction.\n",
    "\n",
    "##### Price Concern:\n",
    "\n",
    "Yes if user complains about high/raising cost.\n",
    "\n",
    "No if not mentioned.\n",
    "\n",
    "##### Customer Service Concern:\n",
    "\n",
    "Yes if user criticizes service.\n",
    "\n",
    "No otherwise.\n",
    "\n",
    "#####  Overall Sentiment:\n",
    "\n",
    "Positive if mostly favorable.\n",
    "\n",
    "Negative if mostly critical.\n",
    "\n",
    "Mixed if both positive and negative elements are present."
   ]
  },
  {
   "cell_type": "code",
   "execution_count": null,
   "id": "8341d668-7272-4ce1-8a33-5bcc187751d1",
   "metadata": {},
   "outputs": [],
   "source": []
  }
 ],
 "metadata": {
  "kernelspec": {
   "display_name": "Python 3 (ipykernel)",
   "language": "python",
   "name": "python3"
  },
  "language_info": {
   "codemirror_mode": {
    "name": "ipython",
    "version": 3
   },
   "file_extension": ".py",
   "mimetype": "text/x-python",
   "name": "python",
   "nbconvert_exporter": "python",
   "pygments_lexer": "ipython3",
   "version": "3.13.5"
  }
 },
 "nbformat": 4,
 "nbformat_minor": 5
}
